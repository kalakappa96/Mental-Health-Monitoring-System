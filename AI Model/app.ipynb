{
 "cells": [
  {
   "cell_type": "code",
   "execution_count": 1,
   "id": "6eacd9f7",
   "metadata": {},
   "outputs": [],
   "source": [
    "import pandas as pd\n",
    "\n",
    "import numpy as np\n",
    "\n",
    "import matplotlib.pyplot as plt\n",
    "\n",
    "import seaborn as sns\n"
   ]
  },
  {
   "cell_type": "code",
   "execution_count": 2,
   "id": "5e8aadcb",
   "metadata": {},
   "outputs": [],
   "source": [
    "data = pd.read_csv(\"./ImpDt.csv\")\n"
   ]
  },
  {
   "cell_type": "code",
   "execution_count": 3,
   "id": "50c4a8df",
   "metadata": {},
   "outputs": [
    {
     "data": {
      "text/html": [
       "<div>\n",
       "<style scoped>\n",
       "    .dataframe tbody tr th:only-of-type {\n",
       "        vertical-align: middle;\n",
       "    }\n",
       "\n",
       "    .dataframe tbody tr th {\n",
       "        vertical-align: top;\n",
       "    }\n",
       "\n",
       "    .dataframe thead th {\n",
       "        text-align: right;\n",
       "    }\n",
       "</style>\n",
       "<table border=\"1\" class=\"dataframe\">\n",
       "  <thead>\n",
       "    <tr style=\"text-align: right;\">\n",
       "      <th></th>\n",
       "      <th>Areu_Student</th>\n",
       "      <th>Gender</th>\n",
       "      <th>Feeling_nervous</th>\n",
       "      <th>Control_worrying</th>\n",
       "      <th>Different_things</th>\n",
       "      <th>Restless</th>\n",
       "      <th>Irritable</th>\n",
       "      <th>Something_awful</th>\n",
       "      <th>Physical_problems</th>\n",
       "      <th>Trouble_concentrating</th>\n",
       "      <th>Feeling_bad</th>\n",
       "      <th>Loss_interest</th>\n",
       "      <th>Feeling_tiredness</th>\n",
       "      <th>Trouble_falling</th>\n",
       "      <th>Feeling_guilty</th>\n",
       "      <th>Suicidal_thoughts</th>\n",
       "      <th>Treatment</th>\n",
       "    </tr>\n",
       "  </thead>\n",
       "  <tbody>\n",
       "    <tr>\n",
       "      <th>0</th>\n",
       "      <td>Yes</td>\n",
       "      <td>Male</td>\n",
       "      <td>Yes</td>\n",
       "      <td>Yes</td>\n",
       "      <td>Yes</td>\n",
       "      <td>Yes</td>\n",
       "      <td>Yes</td>\n",
       "      <td>Yes</td>\n",
       "      <td>No</td>\n",
       "      <td>No</td>\n",
       "      <td>No</td>\n",
       "      <td>No</td>\n",
       "      <td>No</td>\n",
       "      <td>No</td>\n",
       "      <td>No</td>\n",
       "      <td>No</td>\n",
       "      <td>No</td>\n",
       "    </tr>\n",
       "    <tr>\n",
       "      <th>1</th>\n",
       "      <td>Yes</td>\n",
       "      <td>Male</td>\n",
       "      <td>Yes</td>\n",
       "      <td>Yes</td>\n",
       "      <td>Yes</td>\n",
       "      <td>Yes</td>\n",
       "      <td>Yes</td>\n",
       "      <td>No</td>\n",
       "      <td>No</td>\n",
       "      <td>No</td>\n",
       "      <td>No</td>\n",
       "      <td>No</td>\n",
       "      <td>No</td>\n",
       "      <td>No</td>\n",
       "      <td>No</td>\n",
       "      <td>No</td>\n",
       "      <td>No</td>\n",
       "    </tr>\n",
       "    <tr>\n",
       "      <th>2</th>\n",
       "      <td>Yes</td>\n",
       "      <td>Female</td>\n",
       "      <td>Yes</td>\n",
       "      <td>Yes</td>\n",
       "      <td>Yes</td>\n",
       "      <td>Yes</td>\n",
       "      <td>No</td>\n",
       "      <td>No</td>\n",
       "      <td>No</td>\n",
       "      <td>No</td>\n",
       "      <td>No</td>\n",
       "      <td>No</td>\n",
       "      <td>No</td>\n",
       "      <td>No</td>\n",
       "      <td>No</td>\n",
       "      <td>No</td>\n",
       "      <td>No</td>\n",
       "    </tr>\n",
       "    <tr>\n",
       "      <th>3</th>\n",
       "      <td>Yes</td>\n",
       "      <td>Male</td>\n",
       "      <td>Yes</td>\n",
       "      <td>Yes</td>\n",
       "      <td>Yes</td>\n",
       "      <td>No</td>\n",
       "      <td>No</td>\n",
       "      <td>No</td>\n",
       "      <td>No</td>\n",
       "      <td>No</td>\n",
       "      <td>No</td>\n",
       "      <td>No</td>\n",
       "      <td>No</td>\n",
       "      <td>No</td>\n",
       "      <td>No</td>\n",
       "      <td>No</td>\n",
       "      <td>No</td>\n",
       "    </tr>\n",
       "    <tr>\n",
       "      <th>4</th>\n",
       "      <td>Yes</td>\n",
       "      <td>Male</td>\n",
       "      <td>Yes</td>\n",
       "      <td>Yes</td>\n",
       "      <td>No</td>\n",
       "      <td>No</td>\n",
       "      <td>No</td>\n",
       "      <td>No</td>\n",
       "      <td>No</td>\n",
       "      <td>No</td>\n",
       "      <td>No</td>\n",
       "      <td>No</td>\n",
       "      <td>No</td>\n",
       "      <td>No</td>\n",
       "      <td>No</td>\n",
       "      <td>No</td>\n",
       "      <td>NaN</td>\n",
       "    </tr>\n",
       "  </tbody>\n",
       "</table>\n",
       "</div>"
      ],
      "text/plain": [
       "  Areu_Student  Gender Feeling_nervous Control_worrying Different_things   \n",
       "0          Yes    Male             Yes              Yes              Yes  \\\n",
       "1          Yes    Male             Yes              Yes              Yes   \n",
       "2          Yes  Female             Yes              Yes              Yes   \n",
       "3          Yes    Male             Yes              Yes              Yes   \n",
       "4          Yes    Male             Yes              Yes               No   \n",
       "\n",
       "  Restless Irritable Something_awful Physical_problems Trouble_concentrating   \n",
       "0      Yes       Yes             Yes                No                    No  \\\n",
       "1      Yes       Yes              No                No                    No   \n",
       "2      Yes        No              No                No                    No   \n",
       "3       No        No              No                No                    No   \n",
       "4       No        No              No                No                    No   \n",
       "\n",
       "  Feeling_bad Loss_interest Feeling_tiredness Trouble_falling Feeling_guilty   \n",
       "0          No            No                No              No             No  \\\n",
       "1          No            No                No              No             No   \n",
       "2          No            No                No              No             No   \n",
       "3          No            No                No              No             No   \n",
       "4          No            No                No              No             No   \n",
       "\n",
       "  Suicidal_thoughts Treatment  \n",
       "0                No        No  \n",
       "1                No        No  \n",
       "2                No        No  \n",
       "3                No        No  \n",
       "4                No       NaN  "
      ]
     },
     "execution_count": 3,
     "metadata": {},
     "output_type": "execute_result"
    }
   ],
   "source": [
    "data.head()"
   ]
  },
  {
   "cell_type": "code",
   "execution_count": 4,
   "id": "cf23ccab",
   "metadata": {},
   "outputs": [
    {
     "data": {
      "text/html": [
       "<div>\n",
       "<style scoped>\n",
       "    .dataframe tbody tr th:only-of-type {\n",
       "        vertical-align: middle;\n",
       "    }\n",
       "\n",
       "    .dataframe tbody tr th {\n",
       "        vertical-align: top;\n",
       "    }\n",
       "\n",
       "    .dataframe thead th {\n",
       "        text-align: right;\n",
       "    }\n",
       "</style>\n",
       "<table border=\"1\" class=\"dataframe\">\n",
       "  <thead>\n",
       "    <tr style=\"text-align: right;\">\n",
       "      <th></th>\n",
       "      <th>Areu_Student</th>\n",
       "      <th>Gender</th>\n",
       "      <th>Feeling_nervous</th>\n",
       "      <th>Control_worrying</th>\n",
       "      <th>Different_things</th>\n",
       "      <th>Restless</th>\n",
       "      <th>Irritable</th>\n",
       "      <th>Something_awful</th>\n",
       "      <th>Physical_problems</th>\n",
       "      <th>Trouble_concentrating</th>\n",
       "      <th>Feeling_bad</th>\n",
       "      <th>Loss_interest</th>\n",
       "      <th>Feeling_tiredness</th>\n",
       "      <th>Trouble_falling</th>\n",
       "      <th>Feeling_guilty</th>\n",
       "      <th>Suicidal_thoughts</th>\n",
       "      <th>Treatment</th>\n",
       "    </tr>\n",
       "  </thead>\n",
       "  <tbody>\n",
       "    <tr>\n",
       "      <th>52</th>\n",
       "      <td>No</td>\n",
       "      <td>Female</td>\n",
       "      <td>No</td>\n",
       "      <td>No</td>\n",
       "      <td>Yes</td>\n",
       "      <td>Yes</td>\n",
       "      <td>Yes</td>\n",
       "      <td>No</td>\n",
       "      <td>No</td>\n",
       "      <td>No</td>\n",
       "      <td>Yes</td>\n",
       "      <td>Yes</td>\n",
       "      <td>No</td>\n",
       "      <td>No</td>\n",
       "      <td>Yes</td>\n",
       "      <td>No</td>\n",
       "      <td>No</td>\n",
       "    </tr>\n",
       "    <tr>\n",
       "      <th>53</th>\n",
       "      <td>Yes</td>\n",
       "      <td>Male</td>\n",
       "      <td>Yes</td>\n",
       "      <td>Yes</td>\n",
       "      <td>Yes</td>\n",
       "      <td>No</td>\n",
       "      <td>No</td>\n",
       "      <td>Yes</td>\n",
       "      <td>No</td>\n",
       "      <td>Yes</td>\n",
       "      <td>Yes</td>\n",
       "      <td>No</td>\n",
       "      <td>Yes</td>\n",
       "      <td>Yes</td>\n",
       "      <td>Yes</td>\n",
       "      <td>Yes</td>\n",
       "      <td>Yes</td>\n",
       "    </tr>\n",
       "    <tr>\n",
       "      <th>54</th>\n",
       "      <td>Yes</td>\n",
       "      <td>Male</td>\n",
       "      <td>No</td>\n",
       "      <td>No</td>\n",
       "      <td>No</td>\n",
       "      <td>No</td>\n",
       "      <td>Yes</td>\n",
       "      <td>Yes</td>\n",
       "      <td>No</td>\n",
       "      <td>Yes</td>\n",
       "      <td>No</td>\n",
       "      <td>No</td>\n",
       "      <td>Yes</td>\n",
       "      <td>Yes</td>\n",
       "      <td>No</td>\n",
       "      <td>No</td>\n",
       "      <td>NaN</td>\n",
       "    </tr>\n",
       "    <tr>\n",
       "      <th>55</th>\n",
       "      <td>No</td>\n",
       "      <td>Female</td>\n",
       "      <td>No</td>\n",
       "      <td>No</td>\n",
       "      <td>No</td>\n",
       "      <td>Yes</td>\n",
       "      <td>Yes</td>\n",
       "      <td>Yes</td>\n",
       "      <td>No</td>\n",
       "      <td>No</td>\n",
       "      <td>No</td>\n",
       "      <td>Yes</td>\n",
       "      <td>Yes</td>\n",
       "      <td>Yes</td>\n",
       "      <td>No</td>\n",
       "      <td>No</td>\n",
       "      <td>No</td>\n",
       "    </tr>\n",
       "    <tr>\n",
       "      <th>56</th>\n",
       "      <td>Yes</td>\n",
       "      <td>Male</td>\n",
       "      <td>Yes</td>\n",
       "      <td>Yes</td>\n",
       "      <td>No</td>\n",
       "      <td>No</td>\n",
       "      <td>Yes</td>\n",
       "      <td>Yes</td>\n",
       "      <td>No</td>\n",
       "      <td>Yes</td>\n",
       "      <td>Yes</td>\n",
       "      <td>Yes</td>\n",
       "      <td>Yes</td>\n",
       "      <td>No</td>\n",
       "      <td>Yes</td>\n",
       "      <td>Yes</td>\n",
       "      <td>Yes</td>\n",
       "    </tr>\n",
       "  </tbody>\n",
       "</table>\n",
       "</div>"
      ],
      "text/plain": [
       "   Areu_Student  Gender Feeling_nervous Control_worrying Different_things   \n",
       "52           No  Female              No               No              Yes  \\\n",
       "53          Yes    Male             Yes              Yes              Yes   \n",
       "54          Yes    Male              No               No               No   \n",
       "55           No  Female              No               No               No   \n",
       "56          Yes    Male             Yes              Yes               No   \n",
       "\n",
       "   Restless Irritable Something_awful Physical_problems Trouble_concentrating   \n",
       "52      Yes       Yes              No                No                    No  \\\n",
       "53       No        No             Yes                No                   Yes   \n",
       "54       No       Yes             Yes                No                   Yes   \n",
       "55      Yes       Yes             Yes                No                    No   \n",
       "56       No       Yes             Yes                No                   Yes   \n",
       "\n",
       "   Feeling_bad Loss_interest Feeling_tiredness Trouble_falling Feeling_guilty   \n",
       "52         Yes           Yes                No              No            Yes  \\\n",
       "53         Yes            No               Yes             Yes            Yes   \n",
       "54          No            No               Yes             Yes             No   \n",
       "55          No           Yes               Yes             Yes             No   \n",
       "56         Yes           Yes               Yes              No            Yes   \n",
       "\n",
       "   Suicidal_thoughts Treatment  \n",
       "52                No        No  \n",
       "53               Yes       Yes  \n",
       "54                No       NaN  \n",
       "55                No        No  \n",
       "56               Yes       Yes  "
      ]
     },
     "execution_count": 4,
     "metadata": {},
     "output_type": "execute_result"
    }
   ],
   "source": [
    "data.tail()"
   ]
  },
  {
   "cell_type": "code",
   "execution_count": 5,
   "id": "9fff9710",
   "metadata": {},
   "outputs": [
    {
     "data": {
      "text/plain": [
       "(57, 17)"
      ]
     },
     "execution_count": 5,
     "metadata": {},
     "output_type": "execute_result"
    }
   ],
   "source": [
    "data.shape"
   ]
  },
  {
   "cell_type": "code",
   "execution_count": 6,
   "id": "49edd04a",
   "metadata": {
    "scrolled": true
   },
   "outputs": [
    {
     "name": "stdout",
     "output_type": "stream",
     "text": [
      "<class 'pandas.core.frame.DataFrame'>\n",
      "RangeIndex: 57 entries, 0 to 56\n",
      "Data columns (total 17 columns):\n",
      " #   Column                 Non-Null Count  Dtype \n",
      "---  ------                 --------------  ----- \n",
      " 0   Areu_Student           57 non-null     object\n",
      " 1   Gender                 57 non-null     object\n",
      " 2   Feeling_nervous        57 non-null     object\n",
      " 3   Control_worrying       57 non-null     object\n",
      " 4   Different_things       57 non-null     object\n",
      " 5   Restless               57 non-null     object\n",
      " 6   Irritable              57 non-null     object\n",
      " 7   Something_awful        57 non-null     object\n",
      " 8   Physical_problems      57 non-null     object\n",
      " 9   Trouble_concentrating  57 non-null     object\n",
      " 10  Feeling_bad            57 non-null     object\n",
      " 11  Loss_interest          57 non-null     object\n",
      " 12  Feeling_tiredness      57 non-null     object\n",
      " 13  Trouble_falling        57 non-null     object\n",
      " 14  Feeling_guilty         57 non-null     object\n",
      " 15  Suicidal_thoughts      57 non-null     object\n",
      " 16  Treatment              38 non-null     object\n",
      "dtypes: object(17)\n",
      "memory usage: 7.7+ KB\n"
     ]
    }
   ],
   "source": [
    "data.info()"
   ]
  },
  {
   "cell_type": "code",
   "execution_count": 7,
   "id": "e63b831e",
   "metadata": {},
   "outputs": [
    {
     "data": {
      "text/plain": [
       "Areu_Student              0\n",
       "Gender                    0\n",
       "Feeling_nervous           0\n",
       "Control_worrying          0\n",
       "Different_things          0\n",
       "Restless                  0\n",
       "Irritable                 0\n",
       "Something_awful           0\n",
       "Physical_problems         0\n",
       "Trouble_concentrating     0\n",
       "Feeling_bad               0\n",
       "Loss_interest             0\n",
       "Feeling_tiredness         0\n",
       "Trouble_falling           0\n",
       "Feeling_guilty            0\n",
       "Suicidal_thoughts         0\n",
       "Treatment                19\n",
       "dtype: int64"
      ]
     },
     "execution_count": 7,
     "metadata": {},
     "output_type": "execute_result"
    }
   ],
   "source": [
    "data.isnull().sum()"
   ]
  },
  {
   "cell_type": "code",
   "execution_count": 8,
   "id": "0f8242cd",
   "metadata": {},
   "outputs": [
    {
     "data": {
      "text/plain": [
       "Gender\n",
       "Male      31\n",
       "Female    26\n",
       "Name: count, dtype: int64"
      ]
     },
     "execution_count": 8,
     "metadata": {},
     "output_type": "execute_result"
    }
   ],
   "source": [
    "data['Gender'].replace([ 'Male', 'male', 'M', 'm', 'Male ',\n",
    "                        'Cis Male', 'Man', 'cis male', 'Mail',\n",
    "                        'Male-ish', 'Male (CIS)', 'Cis Man',\n",
    "                        'msle', 'Malr', 'Mal', 'maile', 'Make', ], 'Male', inplace = True)\n",
    "\n",
    "data['Gender'].replace([ 'Female ', 'female', 'F', 'f', 'Woman', \n",
    "                        'Female', 'femail', 'Cis Female', 'cis-female/femme', \n",
    "                        'Femake', 'Female (cis)', 'woman', ], 'Female', inplace = True)\n",
    "\n",
    "data[\"Gender\"].replace(['Female (trans)', 'queer/she/they', 'non-binary',\n",
    "                        'fluid', 'queer', 'Androgyne', 'Trans-female', \n",
    "                        'male leaning androgynous', 'Agender', 'A little about you',\n",
    "                        'Nah', 'All', 'ostensibly male, unsure what that really means',\n",
    "                        'Genderqueer', 'Enby', 'p', 'Neuter', 'something kinda male?', \n",
    "                        'Guy (-ish) ^_^', 'Trans woman',], 'Non-Binary', inplace = True)\n",
    "\n",
    "data['Gender'].value_counts()\n"
   ]
  },
  {
   "cell_type": "code",
   "execution_count": 9,
   "id": "9aad89fe",
   "metadata": {},
   "outputs": [],
   "source": [
    "data.drop(['Areu_Student','Gender'], axis = 1, inplace=True)"
   ]
  },
  {
   "cell_type": "code",
   "execution_count": 10,
   "id": "008e84ce",
   "metadata": {},
   "outputs": [
    {
     "data": {
      "text/plain": [
       "Text(0.5, 1.0, 'Feeling_nervous')"
      ]
     },
     "execution_count": 10,
     "metadata": {},
     "output_type": "execute_result"
    },
    {
     "data": {
      "image/png": "[encoded data removed]",
      "text/plain": [
       "<Figure size 1000x4000 with 1 Axes>"
      ]
     },
     "metadata": {},
     "output_type": "display_data"
    }
   ],
   "source": [
    "plt.figure(figsize=(10,40))\n",
    "plt.subplot(9,2,2)\n",
    "sns.countplot(data=data, x=\"Feeling_nervous\", hue=\"Treatment\")\n",
    "plt.title('Feeling_nervous')"
   ]
  },
  {
   "cell_type": "code",
   "execution_count": 11,
   "id": "9d4a8482",
   "metadata": {},
   "outputs": [
    {
     "data": {
      "text/html": [
       "<div>\n",
       "<style scoped>\n",
       "    .dataframe tbody tr th:only-of-type {\n",
       "        vertical-align: middle;\n",
       "    }\n",
       "\n",
       "    .dataframe tbody tr th {\n",
       "        vertical-align: top;\n",
       "    }\n",
       "\n",
       "    .dataframe thead th {\n",
       "        text-align: right;\n",
       "    }\n",
       "</style>\n",
       "<table border=\"1\" class=\"dataframe\">\n",
       "  <thead>\n",
       "    <tr style=\"text-align: right;\">\n",
       "      <th></th>\n",
       "      <th>Feeling_nervous</th>\n",
       "      <th>Control_worrying</th>\n",
       "      <th>Different_things</th>\n",
       "      <th>Restless</th>\n",
       "      <th>Irritable</th>\n",
       "      <th>Something_awful</th>\n",
       "      <th>Physical_problems</th>\n",
       "      <th>Trouble_concentrating</th>\n",
       "      <th>Feeling_bad</th>\n",
       "      <th>Loss_interest</th>\n",
       "      <th>Feeling_tiredness</th>\n",
       "      <th>Trouble_falling</th>\n",
       "      <th>Feeling_guilty</th>\n",
       "      <th>Suicidal_thoughts</th>\n",
       "      <th>Treatment</th>\n",
       "    </tr>\n",
       "  </thead>\n",
       "  <tbody>\n",
       "    <tr>\n",
       "      <th>count</th>\n",
       "      <td>57</td>\n",
       "      <td>57</td>\n",
       "      <td>57</td>\n",
       "      <td>57</td>\n",
       "      <td>57</td>\n",
       "      <td>57</td>\n",
       "      <td>57</td>\n",
       "      <td>57</td>\n",
       "      <td>57</td>\n",
       "      <td>57</td>\n",
       "      <td>57</td>\n",
       "      <td>57</td>\n",
       "      <td>57</td>\n",
       "      <td>57</td>\n",
       "      <td>38</td>\n",
       "    </tr>\n",
       "    <tr>\n",
       "      <th>unique</th>\n",
       "      <td>2</td>\n",
       "      <td>2</td>\n",
       "      <td>2</td>\n",
       "      <td>2</td>\n",
       "      <td>2</td>\n",
       "      <td>2</td>\n",
       "      <td>2</td>\n",
       "      <td>2</td>\n",
       "      <td>2</td>\n",
       "      <td>2</td>\n",
       "      <td>2</td>\n",
       "      <td>2</td>\n",
       "      <td>2</td>\n",
       "      <td>2</td>\n",
       "      <td>3</td>\n",
       "    </tr>\n",
       "    <tr>\n",
       "      <th>top</th>\n",
       "      <td>No</td>\n",
       "      <td>No</td>\n",
       "      <td>No</td>\n",
       "      <td>No</td>\n",
       "      <td>No</td>\n",
       "      <td>No</td>\n",
       "      <td>No</td>\n",
       "      <td>No</td>\n",
       "      <td>No</td>\n",
       "      <td>No</td>\n",
       "      <td>No</td>\n",
       "      <td>No</td>\n",
       "      <td>No</td>\n",
       "      <td>No</td>\n",
       "      <td>Yes</td>\n",
       "    </tr>\n",
       "    <tr>\n",
       "      <th>freq</th>\n",
       "      <td>33</td>\n",
       "      <td>35</td>\n",
       "      <td>36</td>\n",
       "      <td>34</td>\n",
       "      <td>34</td>\n",
       "      <td>32</td>\n",
       "      <td>37</td>\n",
       "      <td>34</td>\n",
       "      <td>33</td>\n",
       "      <td>34</td>\n",
       "      <td>34</td>\n",
       "      <td>34</td>\n",
       "      <td>33</td>\n",
       "      <td>35</td>\n",
       "      <td>19</td>\n",
       "    </tr>\n",
       "  </tbody>\n",
       "</table>\n",
       "</div>"
      ],
      "text/plain": [
       "       Feeling_nervous Control_worrying Different_things Restless Irritable   \n",
       "count               57               57               57       57        57  \\\n",
       "unique               2                2                2        2         2   \n",
       "top                 No               No               No       No        No   \n",
       "freq                33               35               36       34        34   \n",
       "\n",
       "       Something_awful Physical_problems Trouble_concentrating Feeling_bad   \n",
       "count               57                57                    57          57  \\\n",
       "unique               2                 2                     2           2   \n",
       "top                 No                No                    No          No   \n",
       "freq                32                37                    34          33   \n",
       "\n",
       "       Loss_interest Feeling_tiredness Trouble_falling Feeling_guilty   \n",
       "count             57                57              57             57  \\\n",
       "unique             2                 2               2              2   \n",
       "top               No                No              No             No   \n",
       "freq              34                34              34             33   \n",
       "\n",
       "       Suicidal_thoughts Treatment  \n",
       "count                 57        38  \n",
       "unique                 2         3  \n",
       "top                   No       Yes  \n",
       "freq                  35        19  "
      ]
     },
     "execution_count": 11,
     "metadata": {},
     "output_type": "execute_result"
    }
   ],
   "source": [
    "data.describe(include='all')"
   ]
  },
  {
   "cell_type": "code",
   "execution_count": 12,
   "id": "b7def560",
   "metadata": {},
   "outputs": [],
   "source": [
    "X = data.drop('Treatment', axis = 1)\n",
    "y = data[ 'Treatment']"
   ]
  },
  {
   "cell_type": "code",
   "execution_count": 13,
   "id": "4e5b8251",
   "metadata": {},
   "outputs": [],
   "source": [
    "from sklearn. compose import ColumnTransformer\n",
    "from sklearn. preprocessing import LabelEncoder, OrdinalEncoder "
   ]
  },
  {
   "cell_type": "code",
   "execution_count": 14,
   "id": "e61921fa",
   "metadata": {},
   "outputs": [],
   "source": [
    "X = data.drop('Treatment', axis= 1)\n",
    "y = data['Treatment']"
   ]
  },
  {
   "cell_type": "code",
   "execution_count": 15,
   "id": "cf453082",
   "metadata": {},
   "outputs": [],
   "source": [
    "ct = ColumnTransformer([('oe', OrdinalEncoder(), [ 'Feeling_nervous', 'Control_worrying', 'Different_things',\n",
    "                                                    'Restless', 'Irritable', 'Something_awful', \n",
    "                                                    'Physical_problems', 'Trouble_concentrating', 'Feeling_bad',\n",
    "                                                    'Loss_interest', 'Feeling_tiredness',\n",
    "                                                    'Trouble_falling', 'Feeling_guilty', 'Suicidal_thoughts'])],\n",
    "                                                     remainder='passthrough')"
   ]
  },
  {
   "cell_type": "code",
   "execution_count": 16,
   "id": "0c4bdc8d",
   "metadata": {},
   "outputs": [],
   "source": [
    "x = ct.fit_transform(X)"
   ]
  },
  {
   "cell_type": "code",
   "execution_count": 17,
   "id": "7fee6f1d",
   "metadata": {},
   "outputs": [],
   "source": [
    "le = LabelEncoder() \n",
    "y = le.fit_transform(y)"
   ]
  },
  {
   "cell_type": "code",
   "execution_count": 18,
   "id": "efa1e753",
   "metadata": {},
   "outputs": [],
   "source": [
    "from sklearn.model_selection import train_test_split\n",
    "X_train, X_test, y_train, y_test = train_test_split(x,y, test_size=0.3, random_state=49)"
   ]
  },
  {
   "cell_type": "code",
   "execution_count": 19,
   "id": "779400a5",
   "metadata": {},
   "outputs": [
    {
     "data": {
      "text/plain": [
       "((39, 14), (18, 14), (39,), (18,))"
      ]
     },
     "execution_count": 19,
     "metadata": {},
     "output_type": "execute_result"
    }
   ],
   "source": [
    "X_train. shape, X_test.shape, y_train. shape, y_test.shape "
   ]
  },
  {
   "cell_type": "code",
   "execution_count": 20,
   "id": "b5ca4329",
   "metadata": {},
   "outputs": [],
   "source": [
    "from sklearn.tree import DecisionTreeClassifier \n",
    "from sklearn.metrics import accuracy_score, roc_curve, confusion_matrix, classification_report, auc "
   ]
  },
  {
   "cell_type": "code",
   "execution_count": 21,
   "id": "a3fef0cf",
   "metadata": {},
   "outputs": [],
   "source": [
    "model_dict = {}\n",
    "\n",
    "model_dict['Decision Tree Classifier'] = DecisionTreeClassifier (random_state=30)\n"
   ]
  },
  {
   "cell_type": "code",
   "execution_count": 22,
   "id": "c0b8c007",
   "metadata": {},
   "outputs": [],
   "source": [
    "def model_test (X_train, X_test, y_train, y_test, model, model_name):\n",
    "    model.fit(X_train,y_train) \n",
    "    y_pred = model.predict(X_test)\n",
    "    accuracy = accuracy_score (y_test,y_pred)\n",
    "    print('=============================={}==============================', format(model_name))\n",
    "    print('Score is: {}'.format(accuracy))\n",
    "    \n",
    "    print()\n"
   ]
  },
  {
   "cell_type": "code",
   "execution_count": 23,
   "id": "0205c2e3",
   "metadata": {},
   "outputs": [
    {
     "name": "stdout",
     "output_type": "stream",
     "text": [
      "=============================={}============================== Decision Tree Classifier\n",
      "Score is: 0.7777777777777778\n",
      "\n"
     ]
    }
   ],
   "source": [
    "for model_name, model in model_dict.items():\n",
    "    model_test(X_train, X_test, y_train, y_test, model, model_name)"
   ]
  },
  {
   "cell_type": "code",
   "execution_count": 24,
   "id": "657f0dbc",
   "metadata": {},
   "outputs": [
    {
     "name": "stdout",
     "output_type": "stream",
     "text": [
      "Accuracy of DicisionTree= 0.8333333333333334\n"
     ]
    }
   ],
   "source": [
    "Dcc = DecisionTreeClassifier (random_state=49)\n",
    "Dcc.fit(X_train,y_train)\n",
    "pred_Dcc = Dcc.predict(X_test)\n",
    "print ('Accuracy of DicisionTree=', accuracy_score (y_test, pred_Dcc))"
   ]
  },
  {
   "cell_type": "code",
   "execution_count": 25,
   "id": "30549dbc",
   "metadata": {},
   "outputs": [],
   "source": [
    "from sklearn.tree import DecisionTreeClassifier\n",
    "from sklearn.model_selection import RandomizedSearchCV\n",
    "params_Dcc = {'max_depth': [int(x) for x in np.linspace(start=1, stop=50, num=15)],\n",
    "              'min_samples_leaf': [1, 2, 4, 8, 16, 32],\n",
    "              'max_features': [None, 'sqrt', 'log2']}\n",
    "\n",
    "Dcc_random = RandomizedSearchCV(random_state=49, estimator=DecisionTreeClassifier(), param_distributions=params_Dcc, n_iter=50, cv=5, n_jobs=-1)"
   ]
  },
  {
   "cell_type": "code",
   "execution_count": 26,
   "id": "c277557f",
   "metadata": {},
   "outputs": [
    {
     "data": {
      "text/plain": [
       "{'max_depth': [1, 4, 8, 11, 15, 18, 22, 25, 29, 32, 36, 39, 43, 46, 50],\n",
       " 'min_samples_leaf': [1, 2, 4, 8, 16, 32],\n",
       " 'max_features': [None, 'sqrt', 'log2']}"
      ]
     },
     "execution_count": 26,
     "metadata": {},
     "output_type": "execute_result"
    }
   ],
   "source": [
    "params_Dcc"
   ]
  },
  {
   "cell_type": "code",
   "execution_count": 27,
   "id": "7cc2bf9e",
   "metadata": {},
   "outputs": [
    {
     "name": "stderr",
     "output_type": "stream",
     "text": [
      "c:\\Users\\Viraj Patil\\AppData\\Local\\Programs\\Python\\Python311\\Lib\\site-packages\\sklearn\\model_selection\\_split.py:700: UserWarning: The least populated class in y has only 1 members, which is less than n_splits=5.\n",
      "  warnings.warn(\n"
     ]
    },
    {
     "data": {
      "text/html": [
       "<style>#sk-container-id-1 {color: black;background-color: white;}#sk-container-id-1 pre{padding: 0;}#sk-container-id-1 div.sk-toggleable {background-color: white;}#sk-container-id-1 label.sk-toggleable__label {cursor: pointer;display: block;width: 100%;margin-bottom: 0;padding: 0.3em;box-sizing: border-box;text-align: center;}#sk-container-id-1 label.sk-toggleable__label-arrow:before {content: \"▸\";float: left;margin-right: 0.25em;color: #696969;}#sk-container-id-1 label.sk-toggleable__label-arrow:hover:before {color: black;}#sk-container-id-1 div.sk-estimator:hover label.sk-toggleable__label-arrow:before {color: black;}#sk-container-id-1 div.sk-toggleable__content {max-height: 0;max-width: 0;overflow: hidden;text-align: left;background-color: #f0f8ff;}#sk-container-id-1 div.sk-toggleable__content pre {margin: 0.2em;color: black;border-radius: 0.25em;background-color: #f0f8ff;}#sk-container-id-1 input.sk-toggleable__control:checked~div.sk-toggleable__content {max-height: 200px;max-width: 100%;overflow: auto;}#sk-container-id-1 input.sk-toggleable__control:checked~label.sk-toggleable__label-arrow:before {content: \"▾\";}#sk-container-id-1 div.sk-estimator input.sk-toggleable__control:checked~label.sk-toggleable__label {background-color: #d4ebff;}#sk-container-id-1 div.sk-label input.sk-toggleable__control:checked~label.sk-toggleable__label {background-color: #d4ebff;}#sk-container-id-1 input.sk-hidden--visually {border: 0;clip: rect(1px 1px 1px 1px);clip: rect(1px, 1px, 1px, 1px);height: 1px;margin: -1px;overflow: hidden;padding: 0;position: absolute;width: 1px;}#sk-container-id-1 div.sk-estimator {font-family: monospace;background-color: #f0f8ff;border: 1px dotted black;border-radius: 0.25em;box-sizing: border-box;margin-bottom: 0.5em;}#sk-container-id-1 div.sk-estimator:hover {background-color: #d4ebff;}#sk-container-id-1 div.sk-parallel-item::after {content: \"\";width: 100%;border-bottom: 1px solid gray;flex-grow: 1;}#sk-container-id-1 div.sk-label:hover label.sk-toggleable__label {background-color: #d4ebff;}#sk-container-id-1 div.sk-serial::before {content: \"\";position: absolute;border-left: 1px solid gray;box-sizing: border-box;top: 0;bottom: 0;left: 50%;z-index: 0;}#sk-container-id-1 div.sk-serial {display: flex;flex-direction: column;align-items: center;background-color: white;padding-right: 0.2em;padding-left: 0.2em;position: relative;}#sk-container-id-1 div.sk-item {position: relative;z-index: 1;}#sk-container-id-1 div.sk-parallel {display: flex;align-items: stretch;justify-content: center;background-color: white;position: relative;}#sk-container-id-1 div.sk-item::before, #sk-container-id-1 div.sk-parallel-item::before {content: \"\";position: absolute;border-left: 1px solid gray;box-sizing: border-box;top: 0;bottom: 0;left: 50%;z-index: -1;}#sk-container-id-1 div.sk-parallel-item {display: flex;flex-direction: column;z-index: 1;position: relative;background-color: white;}#sk-container-id-1 div.sk-parallel-item:first-child::after {align-self: flex-end;width: 50%;}#sk-container-id-1 div.sk-parallel-item:last-child::after {align-self: flex-start;width: 50%;}#sk-container-id-1 div.sk-parallel-item:only-child::after {width: 0;}#sk-container-id-1 div.sk-dashed-wrapped {border: 1px dashed gray;margin: 0 0.4em 0.5em 0.4em;box-sizing: border-box;padding-bottom: 0.4em;background-color: white;}#sk-container-id-1 div.sk-label label {font-family: monospace;font-weight: bold;display: inline-block;line-height: 1.2em;}#sk-container-id-1 div.sk-label-container {text-align: center;}#sk-container-id-1 div.sk-container {/* jupyter's `normalize.less` sets `[hidden] { display: none; }` but bootstrap.min.css set `[hidden] { display: none !important; }` so we also need the `!important` here to be able to override the default hidden behavior on the sphinx rendered scikit-learn.org. See: https://github.com/scikit-learn/scikit-learn/issues/21755 */display: inline-block !important;position: relative;}#sk-container-id-1 div.sk-text-repr-fallback {display: none;}</style><div id=\"sk-container-id-1\" class=\"sk-top-container\"><div class=\"sk-text-repr-fallback\"><pre>RandomizedSearchCV(cv=5, estimator=DecisionTreeClassifier(), n_iter=50,\n",
       "                   n_jobs=-1,\n",
       "                   param_distributions={&#x27;max_depth&#x27;: [1, 4, 8, 11, 15, 18, 22,\n",
       "                                                      25, 29, 32, 36, 39, 43,\n",
       "                                                      46, 50],\n",
       "                                        &#x27;max_features&#x27;: [None, &#x27;sqrt&#x27;, &#x27;log2&#x27;],\n",
       "                                        &#x27;min_samples_leaf&#x27;: [1, 2, 4, 8, 16,\n",
       "                                                             32]},\n",
       "                   random_state=49)</pre><b>In a Jupyter environment, please rerun this cell to show the HTML representation or trust the notebook. <br />On GitHub, the HTML representation is unable to render, please try loading this page with nbviewer.org.</b></div><div class=\"sk-container\" hidden><div class=\"sk-item sk-dashed-wrapped\"><div class=\"sk-label-container\"><div class=\"sk-label sk-toggleable\"><input class=\"sk-toggleable__control sk-hidden--visually\" id=\"sk-estimator-id-1\" type=\"checkbox\" ><label for=\"sk-estimator-id-1\" class=\"sk-toggleable__label sk-toggleable__label-arrow\">RandomizedSearchCV</label><div class=\"sk-toggleable__content\"><pre>RandomizedSearchCV(cv=5, estimator=DecisionTreeClassifier(), n_iter=50,\n",
       "                   n_jobs=-1,\n",
       "                   param_distributions={&#x27;max_depth&#x27;: [1, 4, 8, 11, 15, 18, 22,\n",
       "                                                      25, 29, 32, 36, 39, 43,\n",
       "                                                      46, 50],\n",
       "                                        &#x27;max_features&#x27;: [None, &#x27;sqrt&#x27;, &#x27;log2&#x27;],\n",
       "                                        &#x27;min_samples_leaf&#x27;: [1, 2, 4, 8, 16,\n",
       "                                                             32]},\n",
       "                   random_state=49)</pre></div></div></div><div class=\"sk-parallel\"><div class=\"sk-parallel-item\"><div class=\"sk-item\"><div class=\"sk-label-container\"><div class=\"sk-label sk-toggleable\"><input class=\"sk-toggleable__control sk-hidden--visually\" id=\"sk-estimator-id-2\" type=\"checkbox\" ><label for=\"sk-estimator-id-2\" class=\"sk-toggleable__label sk-toggleable__label-arrow\">estimator: DecisionTreeClassifier</label><div class=\"sk-toggleable__content\"><pre>DecisionTreeClassifier()</pre></div></div></div><div class=\"sk-serial\"><div class=\"sk-item\"><div class=\"sk-estimator sk-toggleable\"><input class=\"sk-toggleable__control sk-hidden--visually\" id=\"sk-estimator-id-3\" type=\"checkbox\" ><label for=\"sk-estimator-id-3\" class=\"sk-toggleable__label sk-toggleable__label-arrow\">DecisionTreeClassifier</label><div class=\"sk-toggleable__content\"><pre>DecisionTreeClassifier()</pre></div></div></div></div></div></div></div></div></div></div>"
      ],
      "text/plain": [
       "RandomizedSearchCV(cv=5, estimator=DecisionTreeClassifier(), n_iter=50,\n",
       "                   n_jobs=-1,\n",
       "                   param_distributions={'max_depth': [1, 4, 8, 11, 15, 18, 22,\n",
       "                                                      25, 29, 32, 36, 39, 43,\n",
       "                                                      46, 50],\n",
       "                                        'max_features': [None, 'sqrt', 'log2'],\n",
       "                                        'min_samples_leaf': [1, 2, 4, 8, 16,\n",
       "                                                             32]},\n",
       "                   random_state=49)"
      ]
     },
     "execution_count": 27,
     "metadata": {},
     "output_type": "execute_result"
    }
   ],
   "source": [
    "Dcc_random.fit(X_train,y_train)"
   ]
  },
  {
   "cell_type": "code",
   "execution_count": 28,
   "id": "7ed88671",
   "metadata": {},
   "outputs": [
    {
     "data": {
      "text/plain": [
       "{'min_samples_leaf': 4, 'max_features': 'sqrt', 'max_depth': 22}"
      ]
     },
     "execution_count": 28,
     "metadata": {},
     "output_type": "execute_result"
    }
   ],
   "source": [
    "Dcc_random.best_params_"
   ]
  },
  {
   "cell_type": "code",
   "execution_count": 29,
   "id": "c06aa5be",
   "metadata": {},
   "outputs": [
    {
     "name": "stdout",
     "output_type": "stream",
     "text": [
      "Accuracy of DicisionTree(tuned)= 0.8333333333333334\n"
     ]
    }
   ],
   "source": [
    "Dcc_tuned = DecisionTreeClassifier(random_state=49)\n",
    "Dcc_tuned.fit(X_train,y_train)\n",
    "pred_Dcc_tuned = Dcc_tuned.predict(X_test)\n",
    "print ('Accuracy of DicisionTree(tuned)=', accuracy_score (y_test, pred_Dcc_tuned))\n"
   ]
  },
  {
   "cell_type": "code",
   "execution_count": 30,
   "id": "d3645c47",
   "metadata": {},
   "outputs": [
    {
     "name": "stdout",
     "output_type": "stream",
     "text": [
      "              precision    recall  f1-score   support\n",
      "\n",
      "           0       0.80      0.67      0.73         6\n",
      "           1       0.83      0.83      0.83         6\n",
      "           3       0.86      1.00      0.92         6\n",
      "\n",
      "    accuracy                           0.83        18\n",
      "   macro avg       0.83      0.83      0.83        18\n",
      "weighted avg       0.83      0.83      0.83        18\n",
      "\n"
     ]
    }
   ],
   "source": [
    "print(classification_report (y_test, pred_Dcc))"
   ]
  },
  {
   "cell_type": "code",
   "execution_count": 31,
   "id": "9d9a282b",
   "metadata": {},
   "outputs": [
    {
     "name": "stdout",
     "output_type": "stream",
     "text": [
      "              precision    recall  f1-score   support\n",
      "\n",
      "           0       0.80      0.67      0.73         6\n",
      "           1       0.83      0.83      0.83         6\n",
      "           3       0.86      1.00      0.92         6\n",
      "\n",
      "    accuracy                           0.83        18\n",
      "   macro avg       0.83      0.83      0.83        18\n",
      "weighted avg       0.83      0.83      0.83        18\n",
      "\n"
     ]
    }
   ],
   "source": [
    "print(classification_report (y_test, pred_Dcc_tuned))"
   ]
  },
  {
   "cell_type": "code",
   "execution_count": 32,
   "id": "eb9812cf",
   "metadata": {},
   "outputs": [],
   "source": [
    "import pickle\n",
    "pickle.dump(Dcc_tuned, open('./model.pkl', 'wb'))\n",
    "pickle.dump(ct, open('./ct.pkl', 'wb'))\n",
    "pickle.dump(le, open('./le.pkl', 'wb'))\n",
    "model=pickle.load(open('./model.pkl','rb'))"
   ]
  }
 ],
 "metadata": {
  "kernelspec": {
   "display_name": "Python 3",
   "language": "python",
   "name": "python3"
  },
  "language_info": {
   "codemirror_mode": {
    "name": "ipython",
    "version": 3
   },
   "file_extension": ".py",
   "mimetype": "text/x-python",
   "name": "python",
   "nbconvert_exporter": "python",
   "pygments_lexer": "ipython3",
   "version": "3.11.3"
  },
  "vscode": {
   "interpreter": {
    "hash": "7e5c0badbb2d24bbc3f94f0128230c51073dab69f6205fe8338cbe6039d785c3"
   }
  }
 },
 "nbformat": 4,
 "nbformat_minor": 5
}
